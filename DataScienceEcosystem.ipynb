{
 "cells": [
  {
   "cell_type": "markdown",
   "id": "278f0886-11a2-4a84-89e6-aad86b10309c",
   "metadata": {
    "tags": []
   },
   "source": [
    "# Data Science Tools and Ecosystem"
   ]
  },
  {
   "cell_type": "markdown",
   "id": "63c9ff00-b081-4bb0-b03f-9b34e572b522",
   "metadata": {},
   "source": [
    "This notebook outlines tools, ecosystems, and environments that are critical to data science practice. In short, important languages, libraries and tools."
   ]
  },
  {
   "cell_type": "markdown",
   "id": "d98c7f06-3616-4152-8fdf-c1682decc3ae",
   "metadata": {},
   "source": [
    "Important languages for data science include:\n",
    "1. Python\n",
    "2. SQL\n",
    "3. R\n",
    "4. Julia\n",
    "5. Scala"
   ]
  },
  {
   "cell_type": "markdown",
   "id": "3f88a0be-4316-4796-9222-d406fbcb35aa",
   "metadata": {},
   "source": [
    "Popular data science libraries include:\n",
    "\n",
    "1. Matplotlib\n",
    "2. Pandas\n",
    "3. SciPy\n",
    "4. NumPy\n",
    "5. ggplot"
   ]
  },
  {
   "cell_type": "markdown",
   "id": "e6bb6def-2668-4f64-b3e4-1855f8072b5d",
   "metadata": {},
   "source": [
    "Popular data science tools include:\n",
    "1. Anaconda\n",
    "2. RStudio\n",
    "3. Tensor Flow\n",
    "4. Apache Spark"
   ]
  },
  {
   "cell_type": "markdown",
   "id": "3bc91471-404a-4ccc-bfbc-f80b3dd5336a",
   "metadata": {},
   "source": [
    "## Below are a few examples of evaluating arithmetic expressions using Python:"
   ]
  },
  {
   "cell_type": "code",
   "execution_count": 2,
   "id": "d12e6104-ce66-4cc6-8ec5-9a0d8886e1f9",
   "metadata": {
    "tags": []
   },
   "outputs": [
    {
     "data": {
      "text/plain": [
       "17"
      ]
     },
     "execution_count": 2,
     "metadata": {},
     "output_type": "execute_result"
    }
   ],
   "source": [
    "# The example below demonstrates how python can be used to evaluate simple arithmetic expressions\n",
    "\n",
    "(3 * 4) + 5"
   ]
  },
  {
   "cell_type": "code",
   "execution_count": 3,
   "id": "8aeed7a0-9df1-4dbb-8eac-33c4cbcf3cf7",
   "metadata": {
    "tags": []
   },
   "outputs": [
    {
     "name": "stdout",
     "output_type": "stream",
     "text": [
      "3.3333333333333335\n"
     ]
    }
   ],
   "source": [
    "# Python is also useful for converting numbers from one unit to another, as in the example below:\n",
    "hour = 60\n",
    "minutes = 200\n",
    "minutes_to_hour = minutes/hour\n",
    "\n",
    "print(minutes_to_hour)"
   ]
  },
  {
   "cell_type": "markdown",
   "id": "3572ab5f-82ca-4dde-a4d0-c026ad828bfe",
   "metadata": {},
   "source": [
    "Objectives:\n",
    "* List popular programming languages for data science\n",
    "* List popular libraries and tools for data science\n",
    "* Perform simple arithmetic expressions in Python\n",
    "* Convert minutes to hours using Python"
   ]
  },
  {
   "cell_type": "markdown",
   "id": "12896750-1ef3-4b0d-a931-65b4bbcad817",
   "metadata": {},
   "source": [
    "## Author\n",
    "\n",
    "Michelle Golz"
   ]
  },
  {
   "cell_type": "code",
   "execution_count": null,
   "id": "5a8b0425-4d7a-42e2-96df-1d288098d033",
   "metadata": {},
   "outputs": [],
   "source": []
  }
 ],
 "metadata": {
  "kernelspec": {
   "display_name": "Python",
   "language": "python",
   "name": "conda-env-python-py"
  },
  "language_info": {
   "codemirror_mode": {
    "name": "ipython",
    "version": 3
   },
   "file_extension": ".py",
   "mimetype": "text/x-python",
   "name": "python",
   "nbconvert_exporter": "python",
   "pygments_lexer": "ipython3",
   "version": "3.7.12"
  }
 },
 "nbformat": 4,
 "nbformat_minor": 5
}
